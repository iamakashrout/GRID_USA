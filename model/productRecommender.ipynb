{
 "cells": [
  {
   "cell_type": "code",
   "execution_count": 838,
   "metadata": {},
   "outputs": [],
   "source": [
    "import numpy as np\n",
    "import pandas as pd\n",
    "import tensorflow as tf\n",
    "import os"
   ]
  },
  {
   "cell_type": "markdown",
   "metadata": {},
   "source": [
    "<h1>LOADING DATASET</h1>"
   ]
  },
  {
   "cell_type": "code",
   "execution_count": 839,
   "metadata": {},
   "outputs": [],
   "source": [
    "products = pd.read_csv(\"../dataset/productIds.csv\", header=None).values.flatten().astype(int)"
   ]
  },
  {
   "cell_type": "code",
   "execution_count": 840,
   "metadata": {},
   "outputs": [],
   "source": [
    "users = pd.read_csv(\"../dataset/userIds.csv\")"
   ]
  },
  {
   "cell_type": "code",
   "execution_count": 841,
   "metadata": {},
   "outputs": [],
   "source": [
    "train = pd.read_parquet(\"../dataset/train.parquet\")"
   ]
  },
  {
   "cell_type": "code",
   "execution_count": 868,
   "metadata": {},
   "outputs": [
    {
     "data": {
      "text/html": [
       "<div>\n",
       "<style scoped>\n",
       "    .dataframe tbody tr th:only-of-type {\n",
       "        vertical-align: middle;\n",
       "    }\n",
       "\n",
       "    .dataframe tbody tr th {\n",
       "        vertical-align: top;\n",
       "    }\n",
       "\n",
       "    .dataframe thead th {\n",
       "        text-align: right;\n",
       "    }\n",
       "</style>\n",
       "<table border=\"1\" class=\"dataframe\">\n",
       "  <thead>\n",
       "    <tr style=\"text-align: right;\">\n",
       "      <th></th>\n",
       "      <th>dummyUserId</th>\n",
       "      <th>productId</th>\n",
       "    </tr>\n",
       "  </thead>\n",
       "  <tbody>\n",
       "    <tr>\n",
       "      <th>0</th>\n",
       "      <td>b'PIXcm7Ru5KmntCy0yA1K'</td>\n",
       "      <td>10524048</td>\n",
       "    </tr>\n",
       "    <tr>\n",
       "      <th>1</th>\n",
       "      <td>b'd0RILFB1hUzNSINMY4Ow'</td>\n",
       "      <td>9137713</td>\n",
       "    </tr>\n",
       "    <tr>\n",
       "      <th>2</th>\n",
       "      <td>b'Ebax7lyhnKRm4xeRlWW2'</td>\n",
       "      <td>5808602</td>\n",
       "    </tr>\n",
       "    <tr>\n",
       "      <th>3</th>\n",
       "      <td>b'vtigDw2h2vxKt0sJpEeU'</td>\n",
       "      <td>10548272</td>\n",
       "    </tr>\n",
       "    <tr>\n",
       "      <th>4</th>\n",
       "      <td>b'r4GfiEaUGxziyjX0PyU6'</td>\n",
       "      <td>10988173</td>\n",
       "    </tr>\n",
       "  </tbody>\n",
       "</table>\n",
       "</div>"
      ],
      "text/plain": [
       "               dummyUserId  productId\n",
       "0  b'PIXcm7Ru5KmntCy0yA1K'   10524048\n",
       "1  b'd0RILFB1hUzNSINMY4Ow'    9137713\n",
       "2  b'Ebax7lyhnKRm4xeRlWW2'    5808602\n",
       "3  b'vtigDw2h2vxKt0sJpEeU'   10548272\n",
       "4  b'r4GfiEaUGxziyjX0PyU6'   10988173"
      ]
     },
     "execution_count": 868,
     "metadata": {},
     "output_type": "execute_result"
    }
   ],
   "source": [
    "train.head()"
   ]
  },
  {
   "cell_type": "code",
   "execution_count": 842,
   "metadata": {},
   "outputs": [],
   "source": [
    "valid = pd.read_parquet(\"../dataset/valid.parquet\")"
   ]
  },
  {
   "cell_type": "code",
   "execution_count": 869,
   "metadata": {},
   "outputs": [
    {
     "data": {
      "text/html": [
       "<div>\n",
       "<style scoped>\n",
       "    .dataframe tbody tr th:only-of-type {\n",
       "        vertical-align: middle;\n",
       "    }\n",
       "\n",
       "    .dataframe tbody tr th {\n",
       "        vertical-align: top;\n",
       "    }\n",
       "\n",
       "    .dataframe thead th {\n",
       "        text-align: right;\n",
       "    }\n",
       "</style>\n",
       "<table border=\"1\" class=\"dataframe\">\n",
       "  <thead>\n",
       "    <tr style=\"text-align: right;\">\n",
       "      <th></th>\n",
       "      <th>dummyUserId</th>\n",
       "      <th>productId</th>\n",
       "    </tr>\n",
       "  </thead>\n",
       "  <tbody>\n",
       "    <tr>\n",
       "      <th>0</th>\n",
       "      <td>b'I4Yc5Ztur3UNwY5SdvDh'</td>\n",
       "      <td>10093853</td>\n",
       "    </tr>\n",
       "    <tr>\n",
       "      <th>1</th>\n",
       "      <td>b'nhWgcxEVY7jQ3MvvNxWL'</td>\n",
       "      <td>12306408</td>\n",
       "    </tr>\n",
       "    <tr>\n",
       "      <th>2</th>\n",
       "      <td>b'3vriQXKwG095rvR1MSrz'</td>\n",
       "      <td>11858310</td>\n",
       "    </tr>\n",
       "    <tr>\n",
       "      <th>3</th>\n",
       "      <td>b'MA8KmOxkGd1JQ42GXDGO'</td>\n",
       "      <td>10072124</td>\n",
       "    </tr>\n",
       "    <tr>\n",
       "      <th>4</th>\n",
       "      <td>b'vax7VgJnswdiC8iHZSCi'</td>\n",
       "      <td>10596405</td>\n",
       "    </tr>\n",
       "  </tbody>\n",
       "</table>\n",
       "</div>"
      ],
      "text/plain": [
       "               dummyUserId  productId\n",
       "0  b'I4Yc5Ztur3UNwY5SdvDh'   10093853\n",
       "1  b'nhWgcxEVY7jQ3MvvNxWL'   12306408\n",
       "2  b'3vriQXKwG095rvR1MSrz'   11858310\n",
       "3  b'MA8KmOxkGd1JQ42GXDGO'   10072124\n",
       "4  b'vax7VgJnswdiC8iHZSCi'   10596405"
      ]
     },
     "execution_count": 869,
     "metadata": {},
     "output_type": "execute_result"
    }
   ],
   "source": [
    "valid.head()"
   ]
  },
  {
   "cell_type": "markdown",
   "metadata": {},
   "source": [
    "<h1>MAIN RECOMMENDER MODEL</h1>"
   ]
  },
  {
   "cell_type": "code",
   "execution_count": 843,
   "metadata": {},
   "outputs": [
    {
     "data": {
      "text/plain": [
       "<tf.Tensor: shape=(10,), dtype=float32, numpy=\n",
       "array([ 0.03672286,  0.01259146, -0.03362755, -0.00697302,  0.03866266,\n",
       "       -0.01374878, -0.02526289, -0.02193757,  0.04464361, -0.04074328],\n",
       "      dtype=float32)>"
      ]
     },
     "execution_count": 843,
     "metadata": {},
     "output_type": "execute_result"
    }
   ],
   "source": [
    "#The embedding layer gives a list of random numbers for each user and each product.\n",
    "\n",
    "sample1 = tf.keras.layers.Embedding(6,10)\n",
    "sample1(2)"
   ]
  },
  {
   "cell_type": "code",
   "execution_count": 844,
   "metadata": {},
   "outputs": [
    {
     "data": {
      "text/plain": [
       "[array([[-0.04974989,  0.00224668,  0.02770053,  0.00907525, -0.04447396,\n",
       "         -0.02569438, -0.00124962,  0.03482344,  0.01099429, -0.01542653],\n",
       "        [-0.00251231, -0.04839152, -0.04136902,  0.02916792,  0.01381086,\n",
       "         -0.01527318,  0.02927932,  0.0140107 , -0.01028389, -0.04401486],\n",
       "        [ 0.03672286,  0.01259146, -0.03362755, -0.00697302,  0.03866266,\n",
       "         -0.01374878, -0.02526289, -0.02193757,  0.04464361, -0.04074328],\n",
       "        [ 0.0492471 , -0.00565097, -0.01376202,  0.00548672,  0.01416382,\n",
       "          0.04934924, -0.03893637,  0.01682074, -0.01168279, -0.02305605],\n",
       "        [-0.03394373, -0.026026  , -0.04295291, -0.01551647,  0.03146568,\n",
       "         -0.01396207, -0.00152576,  0.02513451,  0.00069203,  0.00052307],\n",
       "        [ 0.03335932,  0.0130215 ,  0.02155601,  0.02286348, -0.03159906,\n",
       "          0.03062787, -0.00088923, -0.00791873,  0.02746013,  0.03151307]],\n",
       "       dtype=float32)]"
      ]
     },
     "execution_count": 844,
     "metadata": {},
     "output_type": "execute_result"
    }
   ],
   "source": [
    "sample1.get_weights()\n"
   ]
  },
  {
   "cell_type": "code",
   "execution_count": 845,
   "metadata": {},
   "outputs": [
    {
     "data": {
      "text/html": [
       "<div>\n",
       "<style scoped>\n",
       "    .dataframe tbody tr th:only-of-type {\n",
       "        vertical-align: middle;\n",
       "    }\n",
       "\n",
       "    .dataframe tbody tr th {\n",
       "        vertical-align: top;\n",
       "    }\n",
       "\n",
       "    .dataframe thead th {\n",
       "        text-align: right;\n",
       "    }\n",
       "</style>\n",
       "<table border=\"1\" class=\"dataframe\">\n",
       "  <thead>\n",
       "    <tr style=\"text-align: right;\">\n",
       "      <th></th>\n",
       "      <th>pmfkU4BNZhmtLgJQwJ7x</th>\n",
       "    </tr>\n",
       "  </thead>\n",
       "  <tbody>\n",
       "    <tr>\n",
       "      <th>0</th>\n",
       "      <td>UDRRwOlzlWVbu7H8YCCi</td>\n",
       "    </tr>\n",
       "    <tr>\n",
       "      <th>1</th>\n",
       "      <td>QHGAef0TI6dhn0wTogvW</td>\n",
       "    </tr>\n",
       "    <tr>\n",
       "      <th>2</th>\n",
       "      <td>xkDvstQDkA6uJlOfslX7</td>\n",
       "    </tr>\n",
       "    <tr>\n",
       "      <th>3</th>\n",
       "      <td>44dM2SXR9BWX5e0ozkF8</td>\n",
       "    </tr>\n",
       "    <tr>\n",
       "      <th>4</th>\n",
       "      <td>mveuXd4mlxb3XxVGVqQJ</td>\n",
       "    </tr>\n",
       "    <tr>\n",
       "      <th>...</th>\n",
       "      <td>...</td>\n",
       "    </tr>\n",
       "    <tr>\n",
       "      <th>43601</th>\n",
       "      <td>1hsyohz0i37hinx6KX8x</td>\n",
       "    </tr>\n",
       "    <tr>\n",
       "      <th>43602</th>\n",
       "      <td>oGSJHmWWvRq8vSbMq2XA</td>\n",
       "    </tr>\n",
       "    <tr>\n",
       "      <th>43603</th>\n",
       "      <td>lcORJ5hemOZc1iGo9z7k</td>\n",
       "    </tr>\n",
       "    <tr>\n",
       "      <th>43604</th>\n",
       "      <td>5CqDquDAszqJp27P7AL8</td>\n",
       "    </tr>\n",
       "    <tr>\n",
       "      <th>43605</th>\n",
       "      <td>SSPNYxJMfuKhoe1dg24m</td>\n",
       "    </tr>\n",
       "  </tbody>\n",
       "</table>\n",
       "<p>43606 rows × 1 columns</p>\n",
       "</div>"
      ],
      "text/plain": [
       "       pmfkU4BNZhmtLgJQwJ7x\n",
       "0      UDRRwOlzlWVbu7H8YCCi\n",
       "1      QHGAef0TI6dhn0wTogvW\n",
       "2      xkDvstQDkA6uJlOfslX7\n",
       "3      44dM2SXR9BWX5e0ozkF8\n",
       "4      mveuXd4mlxb3XxVGVqQJ\n",
       "...                     ...\n",
       "43601  1hsyohz0i37hinx6KX8x\n",
       "43602  oGSJHmWWvRq8vSbMq2XA\n",
       "43603  lcORJ5hemOZc1iGo9z7k\n",
       "43604  5CqDquDAszqJp27P7AL8\n",
       "43605  SSPNYxJMfuKhoe1dg24m\n",
       "\n",
       "[43606 rows x 1 columns]"
      ]
     },
     "execution_count": 845,
     "metadata": {},
     "output_type": "execute_result"
    }
   ],
   "source": [
    "users"
   ]
  },
  {
   "cell_type": "code",
   "execution_count": 846,
   "metadata": {},
   "outputs": [
    {
     "data": {
      "text/plain": [
       "array([ 8650774,  9306139,  9961521, ..., 12058614, 12058615, 11927550])"
      ]
     },
     "execution_count": 846,
     "metadata": {},
     "output_type": "execute_result"
    }
   ],
   "source": [
    "products"
   ]
  },
  {
   "cell_type": "code",
   "execution_count": 847,
   "metadata": {},
   "outputs": [],
   "source": [
    "class SimpleRecommender(tf.keras.Model):\n",
    "    def __init__(self, dummy_users, products, embeddingLen):\n",
    "        super(SimpleRecommender, self).__init__()\n",
    "        self.products = tf.constant(products, dtype=tf.int32)\n",
    "        self.dummy_users = tf.constant(dummy_users, dtype=tf.string)\n",
    "        self.dummy_user_table = tf.lookup.StaticHashTable(tf.lookup.KeyValueTensorInitializer(self.dummy_users, range(len(dummy_users))), 0)\n",
    "        self.product_table = tf.lookup.StaticHashTable(tf.lookup.KeyValueTensorInitializer(self.products, range(len(products))), 0)\n",
    "        \n",
    "        self.user_embedding = tf.keras.layers.Embedding(len(dummy_users), embeddingLen)\n",
    "        self.product_embedding = tf.keras.layers.Embedding(len(products), embeddingLen)\n",
    "\n",
    "        self.dot = tf.keras.layers.Dot(axes=-1)\n",
    "        \n",
    "    def call(self, inputs):\n",
    "        user = inputs[0]\n",
    "        product = inputs[1]\n",
    "\n",
    "        userEmbeddingIndex = self.dummy_user_table.lookup(user)\n",
    "        productEmbeddingIndex = self.product_table.lookup(product)\n",
    "        \n",
    "        userEmbeddingValue = self.user_embedding(userEmbeddingIndex)\n",
    "        productEmbeddingValue = self.product_embedding(productEmbeddingIndex)\n",
    "        \n",
    "        return tf.squeeze(self.dot([userEmbeddingValue, productEmbeddingValue]), 1)\n",
    "        \n",
    "    \n",
    "    @tf.function\n",
    "    def call_item_item(self, product):\n",
    "        product_x = self.product_table.lookup(product)\n",
    "        pe = tf.expand_dims(self.product_embedding(product_x), 0)\n",
    "        \n",
    "        all_pe = tf.expand_dims(self.product_embedding.embeddings, 0)#note this only works if the layer has been built!\n",
    "        scores = tf.reshape(self.dot([pe, all_pe]), [-1])\n",
    "        \n",
    "        top_scores, top_indices = tf.math.top_k(scores, k=10)\n",
    "        top_ids = tf.gather(self.products, top_indices)\n",
    "        return top_ids, top_scores"
   ]
  },
  {
   "cell_type": "code",
   "execution_count": 848,
   "metadata": {},
   "outputs": [],
   "source": [
    "users = users.to_numpy()"
   ]
  },
  {
   "cell_type": "code",
   "execution_count": 849,
   "metadata": {},
   "outputs": [
    {
     "data": {
      "text/plain": [
       "numpy.ndarray"
      ]
     },
     "execution_count": 849,
     "metadata": {},
     "output_type": "execute_result"
    }
   ],
   "source": [
    "type(users)"
   ]
  },
  {
   "cell_type": "code",
   "execution_count": 850,
   "metadata": {},
   "outputs": [],
   "source": [
    "users.shape = (43606,)"
   ]
  },
  {
   "cell_type": "code",
   "execution_count": 851,
   "metadata": {},
   "outputs": [
    {
     "data": {
      "text/plain": [
       "array([ 8650774,  9306139,  9961521, ..., 12058614, 12058615, 11927550])"
      ]
     },
     "execution_count": 851,
     "metadata": {},
     "output_type": "execute_result"
    }
   ],
   "source": [
    "products"
   ]
  },
  {
   "cell_type": "code",
   "execution_count": 852,
   "metadata": {},
   "outputs": [],
   "source": [
    "sr1 = SimpleRecommender(users, products, 8)\n"
   ]
  },
  {
   "cell_type": "code",
   "execution_count": 853,
   "metadata": {},
   "outputs": [
    {
     "data": {
      "text/plain": [
       "array(['UDRRwOlzlWVbu7H8YCCi', 'QHGAef0TI6dhn0wTogvW',\n",
       "       'xkDvstQDkA6uJlOfslX7', ..., 'lcORJ5hemOZc1iGo9z7k',\n",
       "       '5CqDquDAszqJp27P7AL8', 'SSPNYxJMfuKhoe1dg24m'], dtype=object)"
      ]
     },
     "execution_count": 853,
     "metadata": {},
     "output_type": "execute_result"
    }
   ],
   "source": [
    "users"
   ]
  },
  {
   "cell_type": "code",
   "execution_count": 854,
   "metadata": {},
   "outputs": [
    {
     "data": {
      "text/plain": [
       "<tf.Tensor: shape=(2, 3), dtype=float32, numpy=\n",
       "array([[ 0.00125801, -0.00333704,  0.00276724],\n",
       "       [ 0.00122792,  0.00011188,  0.00019821]], dtype=float32)>"
      ]
     },
     "execution_count": 854,
     "metadata": {},
     "output_type": "execute_result"
    }
   ],
   "source": [
    "sr1([tf.constant([['UDRRwOlzlWVbu7H8YCCi'], ['QHGAef0TI6dhn0wTogvW']]), \n",
    "     tf.constant([[8650774,  9306139,  9961521], [ 12058614, 12058615, 11927550]])\n",
    "     ])"
   ]
  },
  {
   "cell_type": "markdown",
   "metadata": {},
   "source": [
    "<h1>Actual Training of the Model</h1>"
   ]
  },
  {
   "cell_type": "code",
   "execution_count": 855,
   "metadata": {},
   "outputs": [
    {
     "name": "stdout",
     "output_type": "stream",
     "text": [
      "tf.Tensor([b'PIXcm7Ru5KmntCy0yA1K'], shape=(1,), dtype=string)\n",
      "tf.Tensor([10524048], shape=(1,), dtype=int32)\n"
     ]
    }
   ],
   "source": [
    "dummy_user_tensor = tf.constant(train[[\"dummyUserId\"]].values, dtype=tf.string)\n",
    "product_tensor = tf.constant(train[[\"productId\"]].values, dtype=tf.int32)\n",
    "\n",
    "dataset = tf.data.Dataset.from_tensor_slices((dummy_user_tensor, product_tensor))\n",
    "for x, y in dataset:\n",
    "    print(x)\n",
    "    print(y)\n",
    "    break\n"
   ]
  },
  {
   "cell_type": "code",
   "execution_count": 856,
   "metadata": {},
   "outputs": [],
   "source": [
    "#trying to reduce the score of those products that user did not purchase\n",
    "\n",
    "class Mapper():\n",
    "    \n",
    "    def __init__(self, possible_products, num_negative_products):\n",
    "        self.num_possible_products = len(possible_products)\n",
    "        self.possible_products_tensor = tf.constant(possible_products, dtype=tf.int32)\n",
    "        \n",
    "        self.num_negative_products = num_negative_products\n",
    "\n",
    "        self.y = tf.one_hot(0, num_negative_products+1)#gives a vector denoting 1->purchsed pro & 0-> not purchased\n",
    "\n",
    "    def __call__(self, user, product):\n",
    "        random_negative_indexes = tf.random.uniform((self.num_negative_products, ), minval = 0, maxval=self.num_possible_products, dtype=tf.int32)\n",
    "        negatives = tf.gather(self.possible_products_tensor, random_negative_indexes)\n",
    "        candidates = tf.concat([product, negatives], axis = 0)\n",
    "        return (user, candidates), self.y"
   ]
  },
  {
   "cell_type": "code",
   "execution_count": 857,
   "metadata": {},
   "outputs": [
    {
     "name": "stdout",
     "output_type": "stream",
     "text": [
      "tf.Tensor([b'PIXcm7Ru5KmntCy0yA1K'], shape=(1,), dtype=string)\n",
      "tf.Tensor(\n",
      "[10524048 12396055  5029445 10331014 12095610 10837307 10463170 12546171\n",
      " 10262400 11036777 10164394], shape=(11,), dtype=int32)\n",
      "tf.Tensor([1. 0. 0. 0. 0. 0. 0. 0. 0. 0. 0.], shape=(11,), dtype=float32)\n"
     ]
    }
   ],
   "source": [
    "#testing above\n",
    "dataset = tf.data.Dataset.from_tensor_slices((dummy_user_tensor, product_tensor)).map(Mapper(products, 10))\n",
    "for (u, c), y in dataset:\n",
    "    print(u)\n",
    "    print(c)\n",
    "    print(y)\n",
    "    break"
   ]
  },
  {
   "cell_type": "code",
   "execution_count": 858,
   "metadata": {},
   "outputs": [],
   "source": [
    "#Bringing together things\n",
    "\n",
    "def get_dataset(df, products, num_negative_products):\n",
    "    dummy_user_tensor = tf.constant(df[[\"dummyUserId\"]].values, dtype=tf.string)\n",
    "    product_tensor = tf.constant(df[[\"productId\"]].values, dtype=tf.int32)\n",
    "\n",
    "    dataset = tf.data.Dataset.from_tensor_slices((dummy_user_tensor, product_tensor))\n",
    "    dataset = dataset.map(Mapper(products, num_negative_products))\n",
    "    dataset = dataset.batch(1024)\n",
    "    return dataset"
   ]
  },
  {
   "cell_type": "code",
   "execution_count": 859,
   "metadata": {},
   "outputs": [
    {
     "data": {
      "text/plain": [
       "(29696,)"
      ]
     },
     "execution_count": 859,
     "metadata": {},
     "output_type": "execute_result"
    }
   ],
   "source": [
    "products.shape"
   ]
  },
  {
   "cell_type": "code",
   "execution_count": 860,
   "metadata": {},
   "outputs": [
    {
     "data": {
      "text/plain": [
       "(43606,)"
      ]
     },
     "execution_count": 860,
     "metadata": {},
     "output_type": "execute_result"
    }
   ],
   "source": [
    "users.shape"
   ]
  },
  {
   "cell_type": "code",
   "execution_count": 861,
   "metadata": {},
   "outputs": [],
   "source": [
    "model = SimpleRecommender(users, products, 20)"
   ]
  },
  {
   "cell_type": "code",
   "execution_count": 862,
   "metadata": {},
   "outputs": [],
   "source": [
    "model.compile(loss=tf.keras.losses.CategoricalCrossentropy(from_logits=True), \n",
    "            optimizer=tf.keras.optimizers.legacy.SGD(learning_rate=250), \n",
    "            metrics=[tf.keras.metrics.CategoricalAccuracy()])\n"
   ]
  },
  {
   "cell_type": "code",
   "execution_count": 863,
   "metadata": {},
   "outputs": [
    {
     "name": "stdout",
     "output_type": "stream",
     "text": [
      "Epoch 1/5\n"
     ]
    },
    {
     "name": "stdout",
     "output_type": "stream",
     "text": [
      "162/162 [==============================] - 15s 89ms/step - loss: 4.6150 - categorical_accuracy: 0.0270 - val_loss: 4.6140 - val_categorical_accuracy: 0.0521\n",
      "Epoch 2/5\n",
      "162/162 [==============================] - 14s 89ms/step - loss: 4.5372 - categorical_accuracy: 0.1972 - val_loss: 4.4494 - val_categorical_accuracy: 0.1087\n",
      "Epoch 3/5\n",
      "162/162 [==============================] - 14s 87ms/step - loss: 4.0246 - categorical_accuracy: 0.2440 - val_loss: 4.2820 - val_categorical_accuracy: 0.0979\n",
      "Epoch 4/5\n",
      "162/162 [==============================] - 14s 84ms/step - loss: 3.2951 - categorical_accuracy: 0.3284 - val_loss: 4.5933 - val_categorical_accuracy: 0.0860\n",
      "Epoch 5/5\n",
      "162/162 [==============================] - 14s 88ms/step - loss: 2.5709 - categorical_accuracy: 0.4276 - val_loss: 5.2342 - val_categorical_accuracy: 0.0736\n"
     ]
    },
    {
     "data": {
      "text/plain": [
       "<keras.src.callbacks.History at 0x293525ab190>"
      ]
     },
     "execution_count": 863,
     "metadata": {},
     "output_type": "execute_result"
    }
   ],
   "source": [
    "model.fit(get_dataset(train, products, 100), validation_data=get_dataset(valid, products, 100), epochs = 5)"
   ]
  },
  {
   "cell_type": "markdown",
   "metadata": {},
   "source": [
    "<h1>MANUAL TESTING</h1>"
   ]
  },
  {
   "cell_type": "code",
   "execution_count": 866,
   "metadata": {},
   "outputs": [],
   "source": [
    "test_product = 12058615"
   ]
  },
  {
   "cell_type": "code",
   "execution_count": 867,
   "metadata": {},
   "outputs": [
    {
     "name": "stdout",
     "output_type": "stream",
     "text": [
      "Recs for item 12058615: (<tf.Tensor: shape=(10,), dtype=int32, numpy=\n",
      "array([10490457, 10490474, 10577467, 10252928, 10313006,  9097969,\n",
      "       10125462, 12360399, 11845206, 11028490])>, <tf.Tensor: shape=(10,), dtype=float32, numpy=\n",
      "array([1.8701911, 1.7465106, 1.7169802, 1.5605607, 1.4877069, 1.4858367,\n",
      "       1.4789683, 1.4783304, 1.4627651, 1.4563138], dtype=float32)>)\n"
     ]
    }
   ],
   "source": [
    "print(\"Recs for item {}: {}\".format(test_product, model.call_item_item(tf.constant(test_product, dtype=tf.int32))))\n"
   ]
  }
 ],
 "metadata": {
  "kernelspec": {
   "display_name": "Python 3",
   "language": "python",
   "name": "python3"
  },
  "language_info": {
   "codemirror_mode": {
    "name": "ipython",
    "version": 3
   },
   "file_extension": ".py",
   "mimetype": "text/x-python",
   "name": "python",
   "nbconvert_exporter": "python",
   "pygments_lexer": "ipython3",
   "version": "3.11.3"
  },
  "orig_nbformat": 4
 },
 "nbformat": 4,
 "nbformat_minor": 2
}
